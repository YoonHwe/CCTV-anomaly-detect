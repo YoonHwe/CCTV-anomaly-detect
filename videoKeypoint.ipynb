{
 "cells": [
  {
   "cell_type": "code",
   "execution_count": 1,
   "metadata": {},
   "outputs": [],
   "source": [
    "#pip install opencv-python"
   ]
  },
  {
   "cell_type": "code",
   "execution_count": 2,
   "metadata": {},
   "outputs": [],
   "source": [
    "import os\n",
    "import cv2\n",
    "import json"
   ]
  },
  {
   "cell_type": "code",
   "execution_count": 3,
   "metadata": {},
   "outputs": [],
   "source": [
    "jsonPath = '/Users/heoyoonhwe/2022IR/C042_A31_SY32_P09_S06_01NAS.json'"
   ]
  },
  {
   "cell_type": "code",
   "execution_count": 4,
   "metadata": {},
   "outputs": [],
   "source": [
    "with open(jsonPath, 'r', encoding='UTF8') as f:\n",
    "    data = json.load(f)"
   ]
  },
  {
   "cell_type": "code",
   "execution_count": 5,
   "metadata": {},
   "outputs": [],
   "source": [
    "keypointsNameDict = data['categories']['keypoints']\n",
    "frameList = data['file'][0]['frames']\n",
    "blockList = data['file'][0]['videos']['block_information']"
   ]
  },
  {
   "cell_type": "code",
   "execution_count": 6,
   "metadata": {},
   "outputs": [
    {
     "name": "stdout",
     "output_type": "stream",
     "text": [
      "0 부터  2651 까지 SY32\n",
      "2652 부터  3596 까지 A31\n"
     ]
    }
   ],
   "source": [
    "# blockListNormal = blockList[0]\n",
    "# blockListSymptom = blockList[1]\n",
    "# blockListAction = blockList[2]\n",
    "blockListSymptom = blockList[0]\n",
    "blockListAction = blockList[1]\n",
    "#normalStart = blockListNormal['start_frame_index']\n",
    "#normalStartInt = int(normalStart)\n",
    "#normalEnd = blockListNormal['end_frame_index']\n",
    "#normalEndInt = int(normalEnd)\n",
    "symptomStart = blockListSymptom['start_frame_index']\n",
    "symptomStartInt = int(symptomStart)\n",
    "symptomEnd = blockListSymptom['end_frame_index']\n",
    "symptomEndInt = int(symptomEnd)\n",
    "actionStart = blockListAction['start_frame_index']\n",
    "actionStartInt = int(actionStart)\n",
    "actionEnd = blockListAction['end_frame_index']\n",
    "actionEndInt = int(actionEnd)\n",
    "# print(normalStartInt, \"부터 \", normalEndInt, \"까지\", blockListNormal['block_detail'])\n",
    "print(symptomStartInt, \"부터 \", symptomEndInt, \"까지\", blockListSymptom['block_detail'])\n",
    "print(actionStartInt, \"부터 \", actionEndInt, \"까지\", blockListAction['block_detail'])"
   ]
  },
  {
   "cell_type": "code",
   "execution_count": 7,
   "metadata": {},
   "outputs": [],
   "source": [
    "capture = cv2.VideoCapture(\"A31_차량 절도 시도/C042_A31_SY32_P09_S06_01NAS.mp4\")"
   ]
  },
  {
   "cell_type": "code",
   "execution_count": 8,
   "metadata": {},
   "outputs": [
    {
     "name": "stdout",
     "output_type": "stream",
     "text": [
      "fps:  29.97002997002997\n"
     ]
    }
   ],
   "source": [
    "fps = capture.get(cv2.CAP_PROP_FPS)\n",
    "w = round(capture.get(cv2.CAP_PROP_FRAME_WIDTH)/2)\n",
    "h = round(capture.get(cv2.CAP_PROP_FRAME_HEIGHT)/2)\n",
    "print(\"fps: \", fps)"
   ]
  },
  {
   "cell_type": "code",
   "execution_count": 9,
   "metadata": {},
   "outputs": [
    {
     "name": "stdout",
     "output_type": "stream",
     "text": [
      "l:  3597\n"
     ]
    }
   ],
   "source": [
    "idx = 0\n",
    "l = int(capture.get(cv2.CAP_PROP_FRAME_COUNT))\n",
    "print(\"l: \", l)"
   ]
  },
  {
   "cell_type": "code",
   "execution_count": 10,
   "metadata": {},
   "outputs": [
    {
     "name": "stdout",
     "output_type": "stream",
     "text": [
      "0 / 3597  => \n",
      "0 와  2651 사이에 있음\n",
      "Symptom...\n",
      "SY32\n",
      "10 / 3597  => \n",
      "0 와  2651 사이에 있음\n",
      "Symptom...\n",
      "SY32\n",
      "20 / 3597  => \n",
      "0 와  2651 사이에 있음\n",
      "Symptom...\n",
      "SY32\n",
      "30 / 3597  => \n",
      "0 와  2651 사이에 있음\n",
      "Symptom...\n",
      "SY32\n",
      "40 / 3597  => \n",
      "0 와  2651 사이에 있음\n",
      "Symptom...\n",
      "SY32\n",
      "50 / 3597  => \n",
      "0 와  2651 사이에 있음\n",
      "Symptom...\n",
      "SY32\n",
      "60 / 3597  => \n",
      "0 와  2651 사이에 있음\n",
      "Symptom...\n",
      "SY32\n",
      "70 / 3597  => \n",
      "0 와  2651 사이에 있음\n",
      "Symptom...\n",
      "SY32\n",
      "80 / 3597  => \n",
      "0 와  2651 사이에 있음\n",
      "Symptom...\n",
      "SY32\n",
      "90 / 3597  => \n",
      "0 와  2651 사이에 있음\n",
      "Symptom...\n",
      "SY32\n",
      "100 / 3597  => \n",
      "0 와  2651 사이에 있음\n",
      "Symptom...\n",
      "SY32\n",
      "110 / 3597  => \n",
      "0 와  2651 사이에 있음\n",
      "Symptom...\n",
      "SY32\n",
      "120 / 3597  => \n",
      "0 와  2651 사이에 있음\n",
      "Symptom...\n",
      "SY32\n",
      "130 / 3597  => \n",
      "0 와  2651 사이에 있음\n",
      "Symptom...\n",
      "SY32\n",
      "140 / 3597  => \n",
      "0 와  2651 사이에 있음\n",
      "Symptom...\n",
      "SY32\n",
      "150 / 3597  => \n",
      "0 와  2651 사이에 있음\n",
      "Symptom...\n",
      "SY32\n",
      "160 / 3597  => \n",
      "0 와  2651 사이에 있음\n",
      "Symptom...\n",
      "SY32\n",
      "170 / 3597  => \n",
      "0 와  2651 사이에 있음\n",
      "Symptom...\n",
      "SY32\n",
      "정상 종료..\n"
     ]
    },
    {
     "data": {
      "text/plain": [
       "-1"
      ]
     },
     "execution_count": 10,
     "metadata": {},
     "output_type": "execute_result"
    }
   ],
   "source": [
    "while capture.isOpened():\n",
    "    if idx % 10 == 0:\n",
    "        print(idx,\"/\", l, \" => \")\n",
    "        if(idx >= symptomStartInt and idx <= symptomEndInt):\n",
    "            print(symptomStartInt, \"와 \",symptomEndInt, \"사이에 있음\")\n",
    "            print(\"Symptom...\")\n",
    "            label = blockListSymptom['block_detail']\n",
    "            print(label)\n",
    "        else:\n",
    "            print(actionStartInt, \"와 \",actionEndInt, \"사이에 있음\")\n",
    "            print(\"Action...\")\n",
    "            label = blockListAction['block_detail']\n",
    "            print(label)\n",
    "        # if(idx >= normalStartInt and idx <= normalEndInt):\n",
    "        #     print(normalStartInt, \"와 \",normalEndInt, \"사이에 있음\")\n",
    "        #     print(\"Normal...\")\n",
    "        #     label = blockListNormal['block_detail']\n",
    "        #     print(label)\n",
    "        # elif(idx <= symptomEndInt):\n",
    "        #     print(symptomStartInt, \"와 \",symptomEndInt, \"사이에 있음\")\n",
    "        #     print(\"Symptom...\")\n",
    "        #     label = blockListSymptom['block_detail']\n",
    "        #     print(label)\n",
    "        # elif(idx <= actionEndInt):\n",
    "        #     print(actionStartInt, \"와 \",actionEndInt, \"사이에 있음\")\n",
    "        #     print(\"Action...\")\n",
    "        #     label = blockListAction['block_detail']\n",
    "        #     print(label)\n",
    "    ret, frame = capture.read()\n",
    "    \n",
    "    if (ret):  #프레임을 제대로 읽었다면\n",
    "        #Nose\n",
    "        k0_X, k0_Y = frameList[idx]['persons'][0]['keypoints'][0].split(',')\n",
    "        k0_X = int(float(k0_X))\n",
    "        k0_Y = int(float(k0_Y))\n",
    "        \n",
    "        #Neck\n",
    "        k1_X, k1_Y = frameList[idx]['persons'][0]['keypoints'][1].split(',')\n",
    "        k1_X = int(float(k1_X))\n",
    "        k1_Y = int(float(k1_Y))\n",
    "        \n",
    "        #RShoulder\n",
    "        k2_X, k2_Y = frameList[idx]['persons'][0]['keypoints'][2].split(',')\n",
    "        k2_X = int(float(k2_X))\n",
    "        k2_Y = int(float(k2_Y))\n",
    "        \n",
    "        #RElbow\n",
    "        k3_X, k3_Y = frameList[idx]['persons'][0]['keypoints'][3].split(',')\n",
    "        k3_X = int(float(k3_X))\n",
    "        k3_Y = int(float(k3_Y))\n",
    "        \n",
    "        #RWrist\n",
    "        k4_X, k4_Y = frameList[idx]['persons'][0]['keypoints'][4].split(',')\n",
    "        k4_X = int(float(k4_X))\n",
    "        k4_Y = int(float(k4_Y))\n",
    "        \n",
    "        #LShoulder\n",
    "        k5_X, k5_Y = frameList[idx]['persons'][0]['keypoints'][5].split(',')\n",
    "        k5_X = int(float(k5_X))\n",
    "        k5_Y = int(float(k5_Y))\n",
    "        \n",
    "        #LElbow\n",
    "        k6_X, k6_Y = frameList[idx]['persons'][0]['keypoints'][6].split(',')\n",
    "        k6_X = int(float(k6_X))\n",
    "        k6_Y = int(float(k6_Y))\n",
    "        \n",
    "        #LWrist\n",
    "        k7_X, k7_Y = frameList[idx]['persons'][0]['keypoints'][7].split(',')\n",
    "        k7_X = int(float(k7_X))\n",
    "        k7_Y = int(float(k7_Y))\n",
    "        \n",
    "        #MidHip\n",
    "        k8_X, k8_Y = frameList[idx]['persons'][0]['keypoints'][8].split(',')\n",
    "        k8_X = int(float(k8_X))\n",
    "        k8_Y = int(float(k8_Y))\n",
    "        \n",
    "        #RHip\n",
    "        k9_X, k9_Y = frameList[idx]['persons'][0]['keypoints'][9].split(',')\n",
    "        k9_X = int(float(k9_X))\n",
    "        k9_Y = int(float(k9_Y))\n",
    "        \n",
    "        #RKnee\n",
    "        k10_X, k10_Y = frameList[idx]['persons'][0]['keypoints'][10].split(',')\n",
    "        k10_X = int(float(k10_X))\n",
    "        k10_Y = int(float(k10_Y))\n",
    "        \n",
    "        #RAnkle\n",
    "        k11_X, k11_Y = frameList[idx]['persons'][0]['keypoints'][11].split(',')\n",
    "        k11_X = int(float(k11_X))\n",
    "        k11_Y = int(float(k11_Y))\n",
    "\n",
    "        #LHip\n",
    "        k12_X, k12_Y = frameList[idx]['persons'][0]['keypoints'][12].split(',')\n",
    "        k12_X = int(float(k12_X))\n",
    "        k12_Y = int(float(k12_Y))\n",
    "\n",
    "        #LKnee\n",
    "        k13_X, k13_Y = frameList[idx]['persons'][0]['keypoints'][13].split(',')\n",
    "        k13_X = int(float(k13_X))\n",
    "        k13_Y = int(float(k13_Y))\n",
    "        \n",
    "        #LAnkle\n",
    "        k14_X, k14_Y = frameList[idx]['persons'][0]['keypoints'][14].split(',')\n",
    "        k14_X = int(float(k14_X))\n",
    "        k14_Y = int(float(k14_Y))\n",
    "\n",
    "        cv2.putText(frame, \"0\", (k0_X, k0_Y), cv2.FONT_HERSHEY_SIMPLEX, .5, (0,0,0))\n",
    "        cv2.putText(frame, \"1\", (k1_X, k1_Y), cv2.FONT_HERSHEY_SIMPLEX, .5, (255,255,255))\n",
    "        cv2.putText(frame, \"2\", (k2_X, k2_Y), cv2.FONT_HERSHEY_SIMPLEX, .5, (255,0,0))\n",
    "        cv2.putText(frame, \"3\", (k3_X, k3_Y), cv2.FONT_HERSHEY_SIMPLEX, .5, (255,94,0))\n",
    "        cv2.putText(frame, \"4\", (k4_X, k4_Y), cv2.FONT_HERSHEY_SIMPLEX, .5, (255,228,0))\n",
    "        cv2.putText(frame, \"5\", (k5_X, k5_Y), cv2.FONT_HERSHEY_SIMPLEX, .5, (0,255,0))\n",
    "        cv2.putText(frame, \"6\", (k6_X, k6_Y), cv2.FONT_HERSHEY_SIMPLEX, .5, (0,0,255))\n",
    "        cv2.putText(frame, \"7\", (k7_X, k7_Y), cv2.FONT_HERSHEY_SIMPLEX, .5, (5,0,153))\n",
    "        cv2.putText(frame, \"8\", (k8_X, k8_Y), cv2.FONT_HERSHEY_SIMPLEX, .5, (217,65,197))\n",
    "        cv2.putText(frame, \"9\", (k9_X, k9_Y), cv2.FONT_HERSHEY_SIMPLEX, .5, (0,0,0))\n",
    "        cv2.putText(frame, \"10\", (k10_X, k10_Y), cv2.FONT_HERSHEY_SIMPLEX, .5, (255,255,255))\n",
    "        cv2.putText(frame, \"11\", (k11_X, k11_Y), cv2.FONT_HERSHEY_SIMPLEX, .5, (255,0,0))\n",
    "        cv2.putText(frame, \"12\", (k12_X, k12_Y), cv2.FONT_HERSHEY_SIMPLEX, .5, (255,94,0))\n",
    "        cv2.putText(frame, \"13\", (k13_X, k13_Y), cv2.FONT_HERSHEY_SIMPLEX, .5, (255,228,0))\n",
    "        cv2.putText(frame, \"14\", (k14_X, k14_Y), cv2.FONT_HERSHEY_SIMPLEX, .5, (0,255,0))       \n",
    "        cv2.putText(frame, label.upper(), (800, 600), cv2.FONT_HERSHEY_SIMPLEX, 1, (0,255,0))        \n",
    "        # display output\n",
    "        cv2.namedWindow('frame', cv2.WINDOW_NORMAL) #새로운 윈도우 창(frame)을 띄워 내용 넣기 \n",
    "        cv2.resizeWindow('frame', w, h) #프레임 창을 사이즈에 맞게 설정\n",
    "        cv2.imshow(\"frame\", frame) #프레임을 화면에 디스플레이\n",
    "        idx += 1 #idx에 1 더함\n",
    "        \n",
    "        if cv2.waitKey(0) & 0xFF == ord('q'): #영상이 종료되거나 q가 입력되면\n",
    "            print(\"정상 종료..\")\n",
    "            capture.release()\n",
    "            cv2.destroyAllWindows()\n",
    "            cv2.waitKey(1)\n",
    "            cv2.waitKey(1)\n",
    "            cv2.waitKey(1)\n",
    "            cv2.waitKey(1)\n",
    "            break #종료\n",
    "            \n",
    "    else: #프레임을 제대로 읽지 못했다면\n",
    "        print(\"프레임 읽지 못함...\")\n",
    "        break #종료\n",
    "        \n",
    "capture.release()\n",
    "cv2.destroyAllWindows()\n",
    "cv2.waitKey(1)\n",
    "cv2.waitKey(1)\n",
    "cv2.waitKey(1)\n",
    "cv2.waitKey(1)"
   ]
  }
 ],
 "metadata": {
  "kernelspec": {
   "display_name": "Python 3",
   "language": "python",
   "name": "python3"
  },
  "language_info": {
   "codemirror_mode": {
    "name": "ipython",
    "version": 3
   },
   "file_extension": ".py",
   "mimetype": "text/x-python",
   "name": "python",
   "nbconvert_exporter": "python",
   "pygments_lexer": "ipython3",
   "version": "3.9.5"
  },
  "vscode": {
   "interpreter": {
    "hash": "aee8b7b246df8f9039afb4144a1f6fd8d2ca17a180786b69acc140d282b71a49"
   }
  }
 },
 "nbformat": 4,
 "nbformat_minor": 4
}
